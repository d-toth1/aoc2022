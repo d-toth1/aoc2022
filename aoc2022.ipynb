{
 "cells": [
  {
   "cell_type": "markdown",
   "id": "96df08d8-02df-4321-9fbc-155e7850679c",
   "metadata": {},
   "source": [
    "# Day 1"
   ]
  },
  {
   "cell_type": "code",
   "execution_count": 1,
   "id": "b71d0e26-1a20-494a-a5f3-c4d0b9101b53",
   "metadata": {},
   "outputs": [
    {
     "data": {
      "text/plain": [
       "69912"
      ]
     },
     "execution_count": 1,
     "metadata": {},
     "output_type": "execute_result"
    }
   ],
   "source": [
    "# Day 1, Part 1\n",
    "with open(\"day1.txt\") as f:\n",
    "    lines = f.readlines()\n",
    "\n",
    "cals = []\n",
    "elf = []\n",
    "for line in lines:\n",
    "    if line == '\\n':\n",
    "        cals.append(elf)\n",
    "        elf = []\n",
    "    else:\n",
    "        elf.append(int(line.strip()))\n",
    "\n",
    "max([sum(i) for i in cals])"
   ]
  },
  {
   "cell_type": "code",
   "execution_count": 2,
   "id": "35f05e15-d3bf-4646-b135-4ff671d000ed",
   "metadata": {},
   "outputs": [
    {
     "data": {
      "text/plain": [
       "208180"
      ]
     },
     "execution_count": 2,
     "metadata": {},
     "output_type": "execute_result"
    }
   ],
   "source": [
    "# Day 1, part 2\n",
    "sum(sorted([sum(i) for i in cals], reverse=True)[:3])"
   ]
  },
  {
   "cell_type": "markdown",
   "id": "2a8e2df6-b9a8-4da1-9cdf-b8fcdb29a670",
   "metadata": {},
   "source": [
    "# Day 2"
   ]
  },
  {
   "cell_type": "code",
   "execution_count": 3,
   "id": "7083fff7-4326-40f8-a97b-8660f6c69e6c",
   "metadata": {},
   "outputs": [
    {
     "name": "stdout",
     "output_type": "stream",
     "text": [
      "13924\n"
     ]
    }
   ],
   "source": [
    "# Day 2, part 1\n",
    "with open(\"day2.txt\") as f:\n",
    "    data = [tuple(line.strip().split(\" \")) for line in f.readlines()]\n",
    "\n",
    "key = {\n",
    "    (\"A\", \"X\"): 3,\n",
    "    (\"A\", \"Y\"): 6,\n",
    "    (\"B\", \"Y\"): 3,\n",
    "    (\"B\", \"Z\"): 6,\n",
    "    (\"C\", \"X\"): 6,\n",
    "    (\"C\", \"Z\"): 3,\n",
    "    \"X\": 1,\n",
    "    \"Y\": 2,\n",
    "    \"Z\": 3\n",
    "}\n",
    "pts = 0\n",
    "for i in data:\n",
    "    pts += key[i[-1]]\n",
    "    if i in key:\n",
    "        pts += key[i]\n",
    "print(pts)"
   ]
  },
  {
   "cell_type": "code",
   "execution_count": 4,
   "id": "4b2b276d-a585-4a82-bef0-74bc6390a236",
   "metadata": {},
   "outputs": [
    {
     "data": {
      "text/plain": [
       "13448"
      ]
     },
     "execution_count": 4,
     "metadata": {},
     "output_type": "execute_result"
    }
   ],
   "source": [
    "# Day 2, part 2\n",
    "key = {\n",
    "    (\"A\", \"X\"): 0 + 3,\n",
    "    (\"A\", \"Y\"): 3 + 1,\n",
    "    (\"A\", \"Z\"): 6 + 2,\n",
    "    (\"B\", \"X\"): 0 + 1,\n",
    "    (\"B\", \"Y\"): 3 + 2,\n",
    "    (\"B\", \"Z\"): 6 + 3,\n",
    "    (\"C\", \"X\"): 0 + 2,\n",
    "    (\"C\", \"Y\"): 3 + 3,\n",
    "    (\"C\", \"Z\"): 6 + 1\n",
    "}\n",
    "sum([key[i] for i in data])"
   ]
  },
  {
   "cell_type": "markdown",
   "id": "b660d3a0-0eff-4308-80c8-bb1f42e46833",
   "metadata": {},
   "source": [
    "# Day 3"
   ]
  },
  {
   "cell_type": "code",
   "execution_count": 5,
   "id": "f8b4f9fc-96f7-4561-b2ff-347b278b2ae7",
   "metadata": {},
   "outputs": [
    {
     "data": {
      "text/plain": [
       "7967"
      ]
     },
     "execution_count": 5,
     "metadata": {},
     "output_type": "execute_result"
    }
   ],
   "source": [
    "# Day 3, part 1\n",
    "import string\n",
    "\n",
    "with open(\"day3.txt\") as f:\n",
    "    data = [line.strip() for line in f.readlines()]\n",
    "\n",
    "def parse(line):\n",
    "    n = len(line)\n",
    "    mid = n // 2\n",
    "    left, right = set(line[:mid]), set(line[mid:])\n",
    "    return [i for i in left if i in right][0]\n",
    "\n",
    "results = list(map(parse, data))\n",
    "priority = {j: i for i, j in enumerate(string.ascii_letters, 1)}\n",
    "sum(priority[i] for i in results)"
   ]
  },
  {
   "cell_type": "code",
   "execution_count": 6,
   "id": "3ec14d21-86da-4e3b-8f51-31fd3222dc87",
   "metadata": {},
   "outputs": [
    {
     "name": "stdout",
     "output_type": "stream",
     "text": [
      "2716\n"
     ]
    }
   ],
   "source": [
    "# Day 3, part 2\n",
    "total = 0\n",
    "for i in range(0, len(data), 3):\n",
    "    (letter,) = set.intersection(*list(map(set, data[i:i+3])))\n",
    "    total += priority[letter]\n",
    "print(total)"
   ]
  },
  {
   "cell_type": "markdown",
   "id": "4ffd7d7d-fb79-4ef7-86de-cdd58f6f7c08",
   "metadata": {},
   "source": [
    "# Day 4"
   ]
  },
  {
   "cell_type": "code",
   "execution_count": 7,
   "id": "7f27f987-5e8d-4fcb-9cc7-c1c418a5209f",
   "metadata": {},
   "outputs": [
    {
     "name": "stdout",
     "output_type": "stream",
     "text": [
      "511\n"
     ]
    }
   ],
   "source": [
    "# Day 4, part 1\n",
    "with open(\"day4.txt\") as f:\n",
    "    data = [line.strip() for line in f.readlines()]\n",
    "    data = [j.split(\"-\") for i in data for j in i.split(\",\")]\n",
    "\n",
    "pairs = [tuple(map(int, i)) for i in data]\n",
    "total = 0\n",
    "for i in range(0, len(pairs), 2):\n",
    "    a, b = pairs[i:i+2]\n",
    "    if ((min(a) <= min(b) and max(a) >= max(b)) or \n",
    "        (min(b) <= min(a) and max(b) >= max(a))):\n",
    "        total += 1\n",
    "print(total)"
   ]
  },
  {
   "cell_type": "code",
   "execution_count": 8,
   "id": "7867ac73-293a-49bc-bbc5-d50dca9e231e",
   "metadata": {},
   "outputs": [
    {
     "name": "stdout",
     "output_type": "stream",
     "text": [
      "821\n"
     ]
    }
   ],
   "source": [
    "# Day 4, part 2\n",
    "total = 0\n",
    "for i in range(0, len(pairs), 2):\n",
    "    a, b = pairs[i:i+2]\n",
    "    ra, rb = (list(range(min(a), max(a)+1)), \n",
    "              list(range(min(b), max(b)+1)))\n",
    "    if len(set(ra+rb)) < len(ra)+len(rb):\n",
    "        total += 1\n",
    "print(total)"
   ]
  },
  {
   "cell_type": "markdown",
   "id": "f5d8474d-0486-49f5-a139-80f2b11a846f",
   "metadata": {},
   "source": [
    "# Day 5"
   ]
  },
  {
   "cell_type": "code",
   "execution_count": 9,
   "id": "0873747f-e772-46c1-bb01-04fe8db205a5",
   "metadata": {},
   "outputs": [
    {
     "name": "stdout",
     "output_type": "stream",
     "text": [
      "FJSRQCFTN\n"
     ]
    }
   ],
   "source": [
    "# Day 5, part 1\n",
    "import re\n",
    "\n",
    "with open(\"day5.txt\") as f:\n",
    "    data = [line.strip() for line in f.readlines()]\n",
    "\n",
    "split = data.index(\"\")\n",
    "instr = data[split+1:]\n",
    "\n",
    "stack = {\n",
    "    1: \"QHCTNSVB\",\n",
    "    2: \"GBDW\",\n",
    "    3: \"BQSTRWF\",\n",
    "    4: \"NDJZSWGL\",\n",
    "    5: \"FVDPM\",\n",
    "    6: \"JWF\",\n",
    "    7: \"VJBQNL\",\n",
    "    8: \"NSQJCRTG\",\n",
    "    9: \"MDWCQSJ\"\n",
    "}\n",
    "stack_c = stack.copy()\n",
    "\n",
    "for i in instr:\n",
    "    # move n from stack a to stack b\n",
    "    n, a, b = list(map(int, re.findall(r'\\d+', i)))\n",
    "    sa, sb = stack_c[a], stack_c[b]\n",
    "    stack_c[a] = sa[n:]\n",
    "    stack_c[b] = \"\".join(list(reversed(sa[:n]))) + sb\n",
    "print(\"\".join(v[0] for k,v in stack_c.items()))"
   ]
  },
  {
   "cell_type": "code",
   "execution_count": 10,
   "id": "d6ce553a-b68e-4727-9b42-bb8ca0fa9218",
   "metadata": {},
   "outputs": [
    {
     "name": "stdout",
     "output_type": "stream",
     "text": [
      "CJVLJQPHS\n"
     ]
    }
   ],
   "source": [
    "# Day 5, part 2\n",
    "for i in instr:\n",
    "    # move n from stack a to stack b\n",
    "    n, a, b = list(map(int, re.findall(r'\\d+', i)))\n",
    "    sa, sb = stack.get(a, \"\"), stack.get(b, \"\")\n",
    "    stack[a] = sa[n:]\n",
    "    stack[b] = \"\".join(list(sa[:n])) + sb\n",
    "print(\"\".join(v[0] for k,v in stack.items()))"
   ]
  },
  {
   "cell_type": "code",
   "execution_count": null,
   "id": "a5b978cd-6311-461f-97e3-edafda0cd5c0",
   "metadata": {},
   "outputs": [],
   "source": []
  }
 ],
 "metadata": {
  "kernelspec": {
   "display_name": "Python 3 (ipykernel)",
   "language": "python",
   "name": "python3"
  },
  "language_info": {
   "codemirror_mode": {
    "name": "ipython",
    "version": 3
   },
   "file_extension": ".py",
   "mimetype": "text/x-python",
   "name": "python",
   "nbconvert_exporter": "python",
   "pygments_lexer": "ipython3",
   "version": "3.10.2"
  }
 },
 "nbformat": 4,
 "nbformat_minor": 5
}
